{
 "cells": [
  {
   "cell_type": "markdown",
   "id": "2a44db79-68f7-4561-99ea-95fa42c4f823",
   "metadata": {},
   "source": [
    "**SM339 &#x25aa; Applied Statistics &#x25aa; Spring 2023 &#x25aa; Uhan**"
   ]
  },
  {
   "cell_type": "markdown",
   "id": "4e0e962f-b0eb-49ba-a8ec-33275dd5faf3",
   "metadata": {},
   "source": [
    "# Lesson 9. Outliers and Unusual Points"
   ]
  },
  {
   "cell_type": "markdown",
   "id": "54907173-d433-409e-b780-c86a9909af31",
   "metadata": {},
   "source": [
    "_Setup._ Tweak the width and height values below to adjust the size of your plots in this notebook."
   ]
  },
  {
   "cell_type": "code",
   "execution_count": null,
   "id": "c83bbe1e-6323-4d5c-aba2-b67ee7b466ec",
   "metadata": {},
   "outputs": [],
   "source": [
    "options(repr.plot.width=8, repr.plot.height=8)"
   ]
  },
  {
   "cell_type": "markdown",
   "id": "5ca6be7d-c4a9-404a-8d6d-00b0174e6919",
   "metadata": {
    "tags": []
   },
   "source": [
    "## Overview"
   ]
  },
  {
   "cell_type": "markdown",
   "id": "f4c36a72-5910-4a63-8c17-78bbf97d015f",
   "metadata": {},
   "source": [
    "- If one or two \"unusual\" observations are dominating the estimate of the line, we need to know\n",
    "\n",
    "- This is part of assessing the model"
   ]
  },
  {
   "cell_type": "markdown",
   "id": "286c7c11-850b-4aae-a6f0-7bb0b0f37254",
   "metadata": {},
   "source": [
    "## Example 1"
   ]
  },
  {
   "cell_type": "markdown",
   "id": "ef30df40-9d83-4e99-a5a0-3f79a54bacc3",
   "metadata": {},
   "source": [
    "The dataset `PalmBeach` contains data from the US presidential election in 2000.\n",
    "The race was very close, and the votes from Florida ended up determining the outcome.\n",
    "`PalmBeach` contains the number of votes for two candidates in Florida counties."
   ]
  },
  {
   "cell_type": "markdown",
   "id": "87fa5e84-e05b-450f-bad0-ebb90b47a3db",
   "metadata": {},
   "source": [
    "First, let's load the data."
   ]
  },
  {
   "cell_type": "code",
   "execution_count": null,
   "id": "6e92baa5-f132-4768-a0d8-53c35507d4f1",
   "metadata": {},
   "outputs": [],
   "source": [
    "library(Stat2Data)\n",
    "data(PalmBeach)\n",
    "head(PalmBeach)"
   ]
  },
  {
   "cell_type": "markdown",
   "id": "0dd5e919-9dd8-4ea3-826a-d0b4697ba02f",
   "metadata": {},
   "source": [
    "(a) Plot the number of votes for candidate George W. Bush (x-axis) versus the number of votes for candidate Pat Buchanan (y-axis), and include a fitted simple linear regression line.\n",
    "\n",
    "Add the following code to your plotting code.\n",
    "\n",
    "```r\n",
    "text(PalmBeach$Bush, PalmBeach$Buchanan, pos=1)  # pos = 1 means put labels to the bottom of each point\n",
    "```\n",
    "\n",
    "This code adds labels to the points in the scatterplot, so we can identify unusual points."
   ]
  },
  {
   "cell_type": "code",
   "execution_count": null,
   "id": "fe46b1b1-5ad6-4d8f-92d5-3caab1caa4ef",
   "metadata": {},
   "outputs": [],
   "source": []
  },
  {
   "cell_type": "markdown",
   "id": "1f046f01-4a2b-4fb7-9f97-bbb0c8a05daa",
   "metadata": {},
   "source": [
    "(c) We see from part (b) that the 13th and 50th observations in `PalmBeach` are \"unusual\". \n",
    "\n",
    "We can inspect these observations like this:"
   ]
  },
  {
   "cell_type": "code",
   "execution_count": null,
   "id": "67dc0b0f-e6ac-4762-a2f5-c8947e8447e2",
   "metadata": {},
   "outputs": [],
   "source": []
  },
  {
   "cell_type": "markdown",
   "id": "457e62ad-5629-4611-941f-8d74214406b6",
   "metadata": {},
   "source": [
    "## Three ways to quantify how unusual a point is"
   ]
  },
  {
   "cell_type": "markdown",
   "id": "08b11c58-30c1-40fd-a3d2-077c354b4bbd",
   "metadata": {},
   "source": [
    "1. __Standardized residual__\n",
    "    - (Rough) formula: $\\dfrac{y_i - \\hat{y}_i}{\\hat{\\sigma}_{\\varepsilon}}$\n",
    "    - This expresses the residuals on a common, unitless scale\n",
    "    - Points with large standardized residuals are called __outliers__"
   ]
  },
  {
   "cell_type": "markdown",
   "id": "c71aee18-b2c4-4a62-babf-5507077af8c9",
   "metadata": {},
   "source": [
    "2. __Leverage__\n",
    "    - Notation: $h_i$\n",
    "        - See STAT2 Chapter 4 for more detail\n",
    "    - A point with high leverage _can_ have a strong effect on the fitted line, especially the slope\n",
    "    - In simple linear regression, this means that the point's $x$ value is far from $\\bar{x}$\n",
    "    - Points with high leverage are called __leverage points__"
   ]
  },
  {
   "cell_type": "markdown",
   "id": "2b228377-33ff-44aa-a72c-25374189d1ea",
   "metadata": {},
   "source": [
    "3. __Cook's distance__\n",
    "    - Notation: $D_i$\n",
    "        - See STAT2 Chapter 4 for more detail\n",
    "    - __We are most concerned with a point that has high leverage and is an outlier__\n",
    "    - $D_i$ combines the standardized residual and leverage of a point to give an overall summary of its effect on the regression line\n",
    "    - Points with large Cook's distance are called __influential points__"
   ]
  },
  {
   "cell_type": "markdown",
   "id": "a6e5fa8e-8762-49d1-b907-03d3e73f1d77",
   "metadata": {},
   "source": [
    "### Rules of thumb for identifying unusual points in simple linear regression"
   ]
  },
  {
   "cell_type": "markdown",
   "id": "e4005646-6d8d-46f8-bb2e-b6d19e474d94",
   "metadata": {},
   "source": [
    "| Statistic | Moderately unusual | Very unusual |\n",
    "| :- | :- | :- |\n",
    "| Standardized residual | beyond $\\pm 2$ | beyond $\\pm 3$ |\n",
    "| Leverage $h_i$ | $h_i > \\dfrac{4}{n}$ | $h_i > \\dfrac{6}{n}$ |\n",
    "| Cook's distance $D_i$ | $D_i > 0.5$ | $D_i > 1$| "
   ]
  },
  {
   "cell_type": "markdown",
   "id": "ab4889e7-97ac-4ba5-bbee-9f9a2ad5dda3",
   "metadata": {},
   "source": [
    "## Example 2"
   ]
  },
  {
   "cell_type": "markdown",
   "id": "523d0bd1-bed5-4f79-8413-7a276124314f",
   "metadata": {},
   "source": [
    "Use the following code to produce a diagnostic plot that displays standardized residuals, leverage, and Cook's distance for each observation. Use the output to comment on our two unusual points."
   ]
  },
  {
   "cell_type": "code",
   "execution_count": null,
   "id": "6f3d0b64-2312-4ad1-bb6d-3843e01a324e",
   "metadata": {},
   "outputs": [],
   "source": [
    "nrow(PalmBeach)     # n = number of observations in dataset\n",
    "plot(fit, which=5)  # diagnostic plot"
   ]
  },
  {
   "cell_type": "markdown",
   "id": "a87c8661-44d3-4fd6-ba89-32db8433c16b",
   "metadata": {},
   "source": [
    "*Write your answer here. Double-click to edit.*\n",
    "\n",
    "- __Palm Beach (50)__\n",
    "\n",
    "- __Dade (13)__"
   ]
  },
  {
   "cell_type": "markdown",
   "id": "4eeb0130-063e-43ef-9456-4ed2244cbe85",
   "metadata": {},
   "source": [
    "_Note._ We can also look at the following diagnostic plot for a direct comparison of Cook's distance:"
   ]
  },
  {
   "cell_type": "code",
   "execution_count": null,
   "id": "30db0d9d-e2d0-482a-bc88-8a5de2ac9778",
   "metadata": {},
   "outputs": [],
   "source": [
    "plot(fit, which=4)"
   ]
  },
  {
   "cell_type": "markdown",
   "id": "d25b09d9-02a1-4ba9-a8b2-dc70913f8b5a",
   "metadata": {},
   "source": [
    "## Some options for dealing with a \"troubling\" observation"
   ]
  },
  {
   "cell_type": "markdown",
   "id": "214957ce-f17f-4a73-8ae6-aa175bf5e226",
   "metadata": {},
   "source": [
    "- Make sure there wasn't an __error__ with recording data"
   ]
  },
  {
   "cell_type": "markdown",
   "id": "41a045a7-c044-4438-b6ce-281a381b85fd",
   "metadata": {},
   "source": [
    "- Investigate whether a __different model__ would be a better fit\n",
    "    - For example: other predictors, other forms/transformations of predictors, distribution assumptions"
   ]
  },
  {
   "cell_type": "markdown",
   "id": "c5b5a708-af71-4db3-8d75-9242db64af11",
   "metadata": {},
   "source": [
    "    \n",
    "- Fit the model with and without the point in question and __report both results__    "
   ]
  },
  {
   "cell_type": "markdown",
   "id": "e25cfadf-ebe4-429d-a96a-6e2d21bc0f30",
   "metadata": {},
   "source": [
    "❗️ It is __NOT OKAY__ to just remove a data point and never mention it!"
   ]
  },
  {
   "cell_type": "markdown",
   "id": "4acfe0e3-7c1d-4910-86a7-82df1b48fbe6",
   "metadata": {},
   "source": [
    "## Example 3"
   ]
  },
  {
   "cell_type": "markdown",
   "id": "80c19b79-1b93-45c3-8f30-97fb893673ca",
   "metadata": {},
   "source": [
    "We saw that Palm Beach County (50) has the highest Cook's distance."
   ]
  },
  {
   "cell_type": "markdown",
   "id": "d5e6f16f-d631-4cb9-8945-78c2d15875aa",
   "metadata": {},
   "source": [
    "In R, we can remove an observation (or multiple observations) from a data frame like this:"
   ]
  },
  {
   "cell_type": "code",
   "execution_count": null,
   "id": "df10df4a-7166-4fb5-8bed-e284e24b0652",
   "metadata": {},
   "outputs": [],
   "source": [
    "PalmBeach2 <- PalmBeach[-c(50),]"
   ]
  },
  {
   "cell_type": "markdown",
   "id": "d79df93a-72fe-4fc6-9a15-9da8364d87d8",
   "metadata": {},
   "source": [
    "(a) Remove Palm Beach County and re-fit the model without it."
   ]
  },
  {
   "cell_type": "code",
   "execution_count": null,
   "id": "b7ba878a-2857-4c4d-8a6b-cfcf9d300181",
   "metadata": {},
   "outputs": [],
   "source": []
  },
  {
   "cell_type": "markdown",
   "id": "6971880b-04bb-4900-8333-48c5a68d2d4b",
   "metadata": {},
   "source": [
    "(b) Make a scatterplot of `Bush` vs `Buchanan` using all the data. \n",
    "Overlay the original fitted line and the new fitted line without Palm Beach.\n",
    "\n",
    "_Tip._ `abline(fit2, col=\"blue\")` draws the fitted line in blue."
   ]
  },
  {
   "cell_type": "code",
   "execution_count": null,
   "id": "f696ab9b-55fb-4015-b2a5-60a747746416",
   "metadata": {},
   "outputs": [],
   "source": []
  },
  {
   "cell_type": "markdown",
   "id": "3ad1530c-aee8-447a-be25-a2e95bc328d6",
   "metadata": {},
   "source": [
    "(c) Compare the fitted model equations with and without Palm Beach County."
   ]
  },
  {
   "cell_type": "code",
   "execution_count": null,
   "id": "e8d69d97-cced-4d55-ba05-9285b9949ce8",
   "metadata": {},
   "outputs": [],
   "source": []
  },
  {
   "cell_type": "markdown",
   "id": "aa288b5e-ef2f-430d-afdf-e52783d6fd57",
   "metadata": {},
   "source": [
    "*Write your answer here. Double-click to edit.*\n",
    "\n",
    "- The fitted model with Palm Beach:\n",
    "\n",
    "- The fitted model without Palm Beach:"
   ]
  }
 ],
 "metadata": {
  "kernelspec": {
   "display_name": "R",
   "language": "R",
   "name": "ir"
  },
  "language_info": {
   "codemirror_mode": "r",
   "file_extension": ".r",
   "mimetype": "text/x-r-source",
   "name": "R",
   "pygments_lexer": "r",
   "version": "4.2.2"
  }
 },
 "nbformat": 4,
 "nbformat_minor": 5
}
